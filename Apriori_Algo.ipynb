{
  "nbformat": 4,
  "nbformat_minor": 0,
  "metadata": {
    "colab": {
      "provenance": []
    },
    "kernelspec": {
      "name": "python3",
      "display_name": "Python 3"
    },
    "language_info": {
      "name": "python"
    }
  },
  "cells": [
    {
      "cell_type": "code",
      "execution_count": null,
      "metadata": {
        "id": "GtwNK2zbGkxA"
      },
      "outputs": [],
      "source": [
        "import numpy as np\n",
        "import pandas as pd\n",
        "from mlxtend.frequent_patterns import apriori, association_rules"
      ]
    },
    {
      "cell_type": "code",
      "source": [
        "df = pd.read_csv(\"/content/data1.csv\")"
      ],
      "metadata": {
        "id": "9jMlkUVOMj1u"
      },
      "execution_count": null,
      "outputs": []
    },
    {
      "cell_type": "code",
      "source": [
        "df.head()"
      ],
      "metadata": {
        "colab": {
          "base_uri": "https://localhost:8080/",
          "height": 206
        },
        "id": "TcRu-Nn-NEg1",
        "outputId": "cfac6900-08e2-4153-8566-8783803574ef"
      },
      "execution_count": null,
      "outputs": [
        {
          "output_type": "execute_result",
          "data": {
            "text/plain": [
              "   Wine  Chips  Bread  Butter  Milk  Apple\n",
              "0  Wine    NaN  Bread  Butter  Milk    NaN\n",
              "1   NaN    NaN  Bread  Butter  Milk    NaN\n",
              "2  Wine  Chips    NaN     NaN   NaN  Apple\n",
              "3  Wine  Chips  Bread  Butter  Milk  Apple\n",
              "4  Wine  Chips    NaN     NaN  Milk    NaN"
            ],
            "text/html": [
              "\n",
              "  <div id=\"df-9d76a7d7-0a22-45ad-a70c-d7b5b7a58c4f\">\n",
              "    <div class=\"colab-df-container\">\n",
              "      <div>\n",
              "<style scoped>\n",
              "    .dataframe tbody tr th:only-of-type {\n",
              "        vertical-align: middle;\n",
              "    }\n",
              "\n",
              "    .dataframe tbody tr th {\n",
              "        vertical-align: top;\n",
              "    }\n",
              "\n",
              "    .dataframe thead th {\n",
              "        text-align: right;\n",
              "    }\n",
              "</style>\n",
              "<table border=\"1\" class=\"dataframe\">\n",
              "  <thead>\n",
              "    <tr style=\"text-align: right;\">\n",
              "      <th></th>\n",
              "      <th>Wine</th>\n",
              "      <th>Chips</th>\n",
              "      <th>Bread</th>\n",
              "      <th>Butter</th>\n",
              "      <th>Milk</th>\n",
              "      <th>Apple</th>\n",
              "    </tr>\n",
              "  </thead>\n",
              "  <tbody>\n",
              "    <tr>\n",
              "      <th>0</th>\n",
              "      <td>Wine</td>\n",
              "      <td>NaN</td>\n",
              "      <td>Bread</td>\n",
              "      <td>Butter</td>\n",
              "      <td>Milk</td>\n",
              "      <td>NaN</td>\n",
              "    </tr>\n",
              "    <tr>\n",
              "      <th>1</th>\n",
              "      <td>NaN</td>\n",
              "      <td>NaN</td>\n",
              "      <td>Bread</td>\n",
              "      <td>Butter</td>\n",
              "      <td>Milk</td>\n",
              "      <td>NaN</td>\n",
              "    </tr>\n",
              "    <tr>\n",
              "      <th>2</th>\n",
              "      <td>Wine</td>\n",
              "      <td>Chips</td>\n",
              "      <td>NaN</td>\n",
              "      <td>NaN</td>\n",
              "      <td>NaN</td>\n",
              "      <td>Apple</td>\n",
              "    </tr>\n",
              "    <tr>\n",
              "      <th>3</th>\n",
              "      <td>Wine</td>\n",
              "      <td>Chips</td>\n",
              "      <td>Bread</td>\n",
              "      <td>Butter</td>\n",
              "      <td>Milk</td>\n",
              "      <td>Apple</td>\n",
              "    </tr>\n",
              "    <tr>\n",
              "      <th>4</th>\n",
              "      <td>Wine</td>\n",
              "      <td>Chips</td>\n",
              "      <td>NaN</td>\n",
              "      <td>NaN</td>\n",
              "      <td>Milk</td>\n",
              "      <td>NaN</td>\n",
              "    </tr>\n",
              "  </tbody>\n",
              "</table>\n",
              "</div>\n",
              "      <button class=\"colab-df-convert\" onclick=\"convertToInteractive('df-9d76a7d7-0a22-45ad-a70c-d7b5b7a58c4f')\"\n",
              "              title=\"Convert this dataframe to an interactive table.\"\n",
              "              style=\"display:none;\">\n",
              "        \n",
              "  <svg xmlns=\"http://www.w3.org/2000/svg\" height=\"24px\"viewBox=\"0 0 24 24\"\n",
              "       width=\"24px\">\n",
              "    <path d=\"M0 0h24v24H0V0z\" fill=\"none\"/>\n",
              "    <path d=\"M18.56 5.44l.94 2.06.94-2.06 2.06-.94-2.06-.94-.94-2.06-.94 2.06-2.06.94zm-11 1L8.5 8.5l.94-2.06 2.06-.94-2.06-.94L8.5 2.5l-.94 2.06-2.06.94zm10 10l.94 2.06.94-2.06 2.06-.94-2.06-.94-.94-2.06-.94 2.06-2.06.94z\"/><path d=\"M17.41 7.96l-1.37-1.37c-.4-.4-.92-.59-1.43-.59-.52 0-1.04.2-1.43.59L10.3 9.45l-7.72 7.72c-.78.78-.78 2.05 0 2.83L4 21.41c.39.39.9.59 1.41.59.51 0 1.02-.2 1.41-.59l7.78-7.78 2.81-2.81c.8-.78.8-2.07 0-2.86zM5.41 20L4 18.59l7.72-7.72 1.47 1.35L5.41 20z\"/>\n",
              "  </svg>\n",
              "      </button>\n",
              "      \n",
              "  <style>\n",
              "    .colab-df-container {\n",
              "      display:flex;\n",
              "      flex-wrap:wrap;\n",
              "      gap: 12px;\n",
              "    }\n",
              "\n",
              "    .colab-df-convert {\n",
              "      background-color: #E8F0FE;\n",
              "      border: none;\n",
              "      border-radius: 50%;\n",
              "      cursor: pointer;\n",
              "      display: none;\n",
              "      fill: #1967D2;\n",
              "      height: 32px;\n",
              "      padding: 0 0 0 0;\n",
              "      width: 32px;\n",
              "    }\n",
              "\n",
              "    .colab-df-convert:hover {\n",
              "      background-color: #E2EBFA;\n",
              "      box-shadow: 0px 1px 2px rgba(60, 64, 67, 0.3), 0px 1px 3px 1px rgba(60, 64, 67, 0.15);\n",
              "      fill: #174EA6;\n",
              "    }\n",
              "\n",
              "    [theme=dark] .colab-df-convert {\n",
              "      background-color: #3B4455;\n",
              "      fill: #D2E3FC;\n",
              "    }\n",
              "\n",
              "    [theme=dark] .colab-df-convert:hover {\n",
              "      background-color: #434B5C;\n",
              "      box-shadow: 0px 1px 3px 1px rgba(0, 0, 0, 0.15);\n",
              "      filter: drop-shadow(0px 1px 2px rgba(0, 0, 0, 0.3));\n",
              "      fill: #FFFFFF;\n",
              "    }\n",
              "  </style>\n",
              "\n",
              "      <script>\n",
              "        const buttonEl =\n",
              "          document.querySelector('#df-9d76a7d7-0a22-45ad-a70c-d7b5b7a58c4f button.colab-df-convert');\n",
              "        buttonEl.style.display =\n",
              "          google.colab.kernel.accessAllowed ? 'block' : 'none';\n",
              "\n",
              "        async function convertToInteractive(key) {\n",
              "          const element = document.querySelector('#df-9d76a7d7-0a22-45ad-a70c-d7b5b7a58c4f');\n",
              "          const dataTable =\n",
              "            await google.colab.kernel.invokeFunction('convertToInteractive',\n",
              "                                                     [key], {});\n",
              "          if (!dataTable) return;\n",
              "\n",
              "          const docLinkHtml = 'Like what you see? Visit the ' +\n",
              "            '<a target=\"_blank\" href=https://colab.research.google.com/notebooks/data_table.ipynb>data table notebook</a>'\n",
              "            + ' to learn more about interactive tables.';\n",
              "          element.innerHTML = '';\n",
              "          dataTable['output_type'] = 'display_data';\n",
              "          await google.colab.output.renderOutput(dataTable, element);\n",
              "          const docLink = document.createElement('div');\n",
              "          docLink.innerHTML = docLinkHtml;\n",
              "          element.appendChild(docLink);\n",
              "        }\n",
              "      </script>\n",
              "    </div>\n",
              "  </div>\n",
              "  "
            ]
          },
          "metadata": {},
          "execution_count": 4
        }
      ]
    },
    {
      "cell_type": "code",
      "source": [
        "df.describe()"
      ],
      "metadata": {
        "colab": {
          "base_uri": "https://localhost:8080/",
          "height": 175
        },
        "id": "HfimdUrTNLYl",
        "outputId": "ee6a9780-05c4-4a0f-ebae-7fd0961027d1"
      },
      "execution_count": null,
      "outputs": [
        {
          "output_type": "execute_result",
          "data": {
            "text/plain": [
              "        Wine  Chips  Bread  Butter  Milk  Apple\n",
              "count     16     13     15      14    17     14\n",
              "unique     1      1      1       1     1      1\n",
              "top     Wine  Chips  Bread  Butter  Milk  Apple\n",
              "freq      16     13     15      14    17     14"
            ],
            "text/html": [
              "\n",
              "  <div id=\"df-67a97a46-7d48-45c6-a182-03db71b5022c\">\n",
              "    <div class=\"colab-df-container\">\n",
              "      <div>\n",
              "<style scoped>\n",
              "    .dataframe tbody tr th:only-of-type {\n",
              "        vertical-align: middle;\n",
              "    }\n",
              "\n",
              "    .dataframe tbody tr th {\n",
              "        vertical-align: top;\n",
              "    }\n",
              "\n",
              "    .dataframe thead th {\n",
              "        text-align: right;\n",
              "    }\n",
              "</style>\n",
              "<table border=\"1\" class=\"dataframe\">\n",
              "  <thead>\n",
              "    <tr style=\"text-align: right;\">\n",
              "      <th></th>\n",
              "      <th>Wine</th>\n",
              "      <th>Chips</th>\n",
              "      <th>Bread</th>\n",
              "      <th>Butter</th>\n",
              "      <th>Milk</th>\n",
              "      <th>Apple</th>\n",
              "    </tr>\n",
              "  </thead>\n",
              "  <tbody>\n",
              "    <tr>\n",
              "      <th>count</th>\n",
              "      <td>16</td>\n",
              "      <td>13</td>\n",
              "      <td>15</td>\n",
              "      <td>14</td>\n",
              "      <td>17</td>\n",
              "      <td>14</td>\n",
              "    </tr>\n",
              "    <tr>\n",
              "      <th>unique</th>\n",
              "      <td>1</td>\n",
              "      <td>1</td>\n",
              "      <td>1</td>\n",
              "      <td>1</td>\n",
              "      <td>1</td>\n",
              "      <td>1</td>\n",
              "    </tr>\n",
              "    <tr>\n",
              "      <th>top</th>\n",
              "      <td>Wine</td>\n",
              "      <td>Chips</td>\n",
              "      <td>Bread</td>\n",
              "      <td>Butter</td>\n",
              "      <td>Milk</td>\n",
              "      <td>Apple</td>\n",
              "    </tr>\n",
              "    <tr>\n",
              "      <th>freq</th>\n",
              "      <td>16</td>\n",
              "      <td>13</td>\n",
              "      <td>15</td>\n",
              "      <td>14</td>\n",
              "      <td>17</td>\n",
              "      <td>14</td>\n",
              "    </tr>\n",
              "  </tbody>\n",
              "</table>\n",
              "</div>\n",
              "      <button class=\"colab-df-convert\" onclick=\"convertToInteractive('df-67a97a46-7d48-45c6-a182-03db71b5022c')\"\n",
              "              title=\"Convert this dataframe to an interactive table.\"\n",
              "              style=\"display:none;\">\n",
              "        \n",
              "  <svg xmlns=\"http://www.w3.org/2000/svg\" height=\"24px\"viewBox=\"0 0 24 24\"\n",
              "       width=\"24px\">\n",
              "    <path d=\"M0 0h24v24H0V0z\" fill=\"none\"/>\n",
              "    <path d=\"M18.56 5.44l.94 2.06.94-2.06 2.06-.94-2.06-.94-.94-2.06-.94 2.06-2.06.94zm-11 1L8.5 8.5l.94-2.06 2.06-.94-2.06-.94L8.5 2.5l-.94 2.06-2.06.94zm10 10l.94 2.06.94-2.06 2.06-.94-2.06-.94-.94-2.06-.94 2.06-2.06.94z\"/><path d=\"M17.41 7.96l-1.37-1.37c-.4-.4-.92-.59-1.43-.59-.52 0-1.04.2-1.43.59L10.3 9.45l-7.72 7.72c-.78.78-.78 2.05 0 2.83L4 21.41c.39.39.9.59 1.41.59.51 0 1.02-.2 1.41-.59l7.78-7.78 2.81-2.81c.8-.78.8-2.07 0-2.86zM5.41 20L4 18.59l7.72-7.72 1.47 1.35L5.41 20z\"/>\n",
              "  </svg>\n",
              "      </button>\n",
              "      \n",
              "  <style>\n",
              "    .colab-df-container {\n",
              "      display:flex;\n",
              "      flex-wrap:wrap;\n",
              "      gap: 12px;\n",
              "    }\n",
              "\n",
              "    .colab-df-convert {\n",
              "      background-color: #E8F0FE;\n",
              "      border: none;\n",
              "      border-radius: 50%;\n",
              "      cursor: pointer;\n",
              "      display: none;\n",
              "      fill: #1967D2;\n",
              "      height: 32px;\n",
              "      padding: 0 0 0 0;\n",
              "      width: 32px;\n",
              "    }\n",
              "\n",
              "    .colab-df-convert:hover {\n",
              "      background-color: #E2EBFA;\n",
              "      box-shadow: 0px 1px 2px rgba(60, 64, 67, 0.3), 0px 1px 3px 1px rgba(60, 64, 67, 0.15);\n",
              "      fill: #174EA6;\n",
              "    }\n",
              "\n",
              "    [theme=dark] .colab-df-convert {\n",
              "      background-color: #3B4455;\n",
              "      fill: #D2E3FC;\n",
              "    }\n",
              "\n",
              "    [theme=dark] .colab-df-convert:hover {\n",
              "      background-color: #434B5C;\n",
              "      box-shadow: 0px 1px 3px 1px rgba(0, 0, 0, 0.15);\n",
              "      filter: drop-shadow(0px 1px 2px rgba(0, 0, 0, 0.3));\n",
              "      fill: #FFFFFF;\n",
              "    }\n",
              "  </style>\n",
              "\n",
              "      <script>\n",
              "        const buttonEl =\n",
              "          document.querySelector('#df-67a97a46-7d48-45c6-a182-03db71b5022c button.colab-df-convert');\n",
              "        buttonEl.style.display =\n",
              "          google.colab.kernel.accessAllowed ? 'block' : 'none';\n",
              "\n",
              "        async function convertToInteractive(key) {\n",
              "          const element = document.querySelector('#df-67a97a46-7d48-45c6-a182-03db71b5022c');\n",
              "          const dataTable =\n",
              "            await google.colab.kernel.invokeFunction('convertToInteractive',\n",
              "                                                     [key], {});\n",
              "          if (!dataTable) return;\n",
              "\n",
              "          const docLinkHtml = 'Like what you see? Visit the ' +\n",
              "            '<a target=\"_blank\" href=https://colab.research.google.com/notebooks/data_table.ipynb>data table notebook</a>'\n",
              "            + ' to learn more about interactive tables.';\n",
              "          element.innerHTML = '';\n",
              "          dataTable['output_type'] = 'display_data';\n",
              "          await google.colab.output.renderOutput(dataTable, element);\n",
              "          const docLink = document.createElement('div');\n",
              "          docLink.innerHTML = docLinkHtml;\n",
              "          element.appendChild(docLink);\n",
              "        }\n",
              "      </script>\n",
              "    </div>\n",
              "  </div>\n",
              "  "
            ]
          },
          "metadata": {},
          "execution_count": 5
        }
      ]
    },
    {
      "cell_type": "code",
      "source": [
        "df.info()"
      ],
      "metadata": {
        "colab": {
          "base_uri": "https://localhost:8080/"
        },
        "id": "4KsnN1o7NStm",
        "outputId": "d362afcb-61ab-4aa3-d589-e4ff9405cde2"
      },
      "execution_count": null,
      "outputs": [
        {
          "output_type": "stream",
          "name": "stdout",
          "text": [
            "<class 'pandas.core.frame.DataFrame'>\n",
            "RangeIndex: 21 entries, 0 to 20\n",
            "Data columns (total 6 columns):\n",
            " #   Column  Non-Null Count  Dtype \n",
            "---  ------  --------------  ----- \n",
            " 0   Wine    16 non-null     object\n",
            " 1   Chips   13 non-null     object\n",
            " 2   Bread   15 non-null     object\n",
            " 3   Butter  14 non-null     object\n",
            " 4   Milk    17 non-null     object\n",
            " 5   Apple   14 non-null     object\n",
            "dtypes: object(6)\n",
            "memory usage: 1.1+ KB\n"
          ]
        }
      ]
    },
    {
      "cell_type": "code",
      "source": [
        "pip install apyori"
      ],
      "metadata": {
        "colab": {
          "base_uri": "https://localhost:8080/"
        },
        "id": "_gTo3mkgOj4f",
        "outputId": "eb999fe3-d7f2-4ad4-d357-eb29bb1647a7"
      },
      "execution_count": null,
      "outputs": [
        {
          "output_type": "stream",
          "name": "stdout",
          "text": [
            "Looking in indexes: https://pypi.org/simple, https://us-python.pkg.dev/colab-wheels/public/simple/\n",
            "Collecting apyori\n",
            "  Downloading apyori-1.1.2.tar.gz (8.6 kB)\n",
            "Building wheels for collected packages: apyori\n",
            "  Building wheel for apyori (setup.py) ... \u001b[?25l\u001b[?25hdone\n",
            "  Created wheel for apyori: filename=apyori-1.1.2-py3-none-any.whl size=5975 sha256=2c3b1e87e3b37e4db82db5ba77558f17f9e791f55929922d0e2f6e97dd3e81c8\n",
            "  Stored in directory: /root/.cache/pip/wheels/cb/f6/e1/57973c631d27efd1a2f375bd6a83b2a616c4021f24aab84080\n",
            "Successfully built apyori\n",
            "Installing collected packages: apyori\n",
            "Successfully installed apyori-1.1.2\n"
          ]
        }
      ]
    },
    {
      "cell_type": "code",
      "source": [],
      "metadata": {
        "id": "iWtmouk-OpBP"
      },
      "execution_count": null,
      "outputs": []
    },
    {
      "cell_type": "code",
      "source": [
        "from apyori import apriori"
      ],
      "metadata": {
        "id": "2x25HKx8OtLm"
      },
      "execution_count": null,
      "outputs": []
    },
    {
      "cell_type": "code",
      "source": [
        "data = pd.read_csv(\"/content/data1.csv\")"
      ],
      "metadata": {
        "id": "RcYPJFjdO7b3"
      },
      "execution_count": null,
      "outputs": []
    },
    {
      "cell_type": "code",
      "source": [
        "data"
      ],
      "metadata": {
        "colab": {
          "base_uri": "https://localhost:8080/",
          "height": 708
        },
        "id": "E9ANbagZPBb-",
        "outputId": "9b8ab2d4-6c17-445a-cde5-60b0a0f74dbe"
      },
      "execution_count": null,
      "outputs": [
        {
          "output_type": "execute_result",
          "data": {
            "text/plain": [
              "    Wine  Chips  Bread  Butter  Milk  Apple\n",
              "0   Wine    NaN  Bread  Butter  Milk    NaN\n",
              "1    NaN    NaN  Bread  Butter  Milk    NaN\n",
              "2   Wine  Chips    NaN     NaN   NaN  Apple\n",
              "3   Wine  Chips  Bread  Butter  Milk  Apple\n",
              "4   Wine  Chips    NaN     NaN  Milk    NaN\n",
              "5   Wine  Chips  Bread     NaN   NaN  Apple\n",
              "6   Wine  Chips    NaN  Butter  Milk    NaN\n",
              "7   Wine    NaN  Bread  Butter   NaN  Apple\n",
              "8   Wine    NaN  Bread  Butter  Milk    NaN\n",
              "9    NaN  Chips  Bread  Butter  Milk  Apple\n",
              "10  Wine    NaN    NaN     NaN  Milk  Apple\n",
              "11  Wine  Chips  Bread  Butter  Milk    NaN\n",
              "12  Wine    NaN  Bread  Butter  Milk  Apple\n",
              "13  Wine    NaN  Bread  Butter  Milk  Apple\n",
              "14  Wine  Chips  Bread  Butter  Milk  Apple\n",
              "15   NaN  Chips  Bread  Butter  Milk  Apple\n",
              "16   NaN  Chips    NaN  Butter  Milk  Apple\n",
              "17  Wine  Chips  Bread  Butter  Milk  Apple\n",
              "18  Wine    NaN  Bread     NaN  Milk  Apple\n",
              "19  Wine  Chips  Bread     NaN  Milk  Apple\n",
              "20   NaN  Chips    NaN     NaN   NaN    NaN"
            ],
            "text/html": [
              "\n",
              "  <div id=\"df-9a3acd6e-efb1-4030-add6-19a35311270e\">\n",
              "    <div class=\"colab-df-container\">\n",
              "      <div>\n",
              "<style scoped>\n",
              "    .dataframe tbody tr th:only-of-type {\n",
              "        vertical-align: middle;\n",
              "    }\n",
              "\n",
              "    .dataframe tbody tr th {\n",
              "        vertical-align: top;\n",
              "    }\n",
              "\n",
              "    .dataframe thead th {\n",
              "        text-align: right;\n",
              "    }\n",
              "</style>\n",
              "<table border=\"1\" class=\"dataframe\">\n",
              "  <thead>\n",
              "    <tr style=\"text-align: right;\">\n",
              "      <th></th>\n",
              "      <th>Wine</th>\n",
              "      <th>Chips</th>\n",
              "      <th>Bread</th>\n",
              "      <th>Butter</th>\n",
              "      <th>Milk</th>\n",
              "      <th>Apple</th>\n",
              "    </tr>\n",
              "  </thead>\n",
              "  <tbody>\n",
              "    <tr>\n",
              "      <th>0</th>\n",
              "      <td>Wine</td>\n",
              "      <td>NaN</td>\n",
              "      <td>Bread</td>\n",
              "      <td>Butter</td>\n",
              "      <td>Milk</td>\n",
              "      <td>NaN</td>\n",
              "    </tr>\n",
              "    <tr>\n",
              "      <th>1</th>\n",
              "      <td>NaN</td>\n",
              "      <td>NaN</td>\n",
              "      <td>Bread</td>\n",
              "      <td>Butter</td>\n",
              "      <td>Milk</td>\n",
              "      <td>NaN</td>\n",
              "    </tr>\n",
              "    <tr>\n",
              "      <th>2</th>\n",
              "      <td>Wine</td>\n",
              "      <td>Chips</td>\n",
              "      <td>NaN</td>\n",
              "      <td>NaN</td>\n",
              "      <td>NaN</td>\n",
              "      <td>Apple</td>\n",
              "    </tr>\n",
              "    <tr>\n",
              "      <th>3</th>\n",
              "      <td>Wine</td>\n",
              "      <td>Chips</td>\n",
              "      <td>Bread</td>\n",
              "      <td>Butter</td>\n",
              "      <td>Milk</td>\n",
              "      <td>Apple</td>\n",
              "    </tr>\n",
              "    <tr>\n",
              "      <th>4</th>\n",
              "      <td>Wine</td>\n",
              "      <td>Chips</td>\n",
              "      <td>NaN</td>\n",
              "      <td>NaN</td>\n",
              "      <td>Milk</td>\n",
              "      <td>NaN</td>\n",
              "    </tr>\n",
              "    <tr>\n",
              "      <th>5</th>\n",
              "      <td>Wine</td>\n",
              "      <td>Chips</td>\n",
              "      <td>Bread</td>\n",
              "      <td>NaN</td>\n",
              "      <td>NaN</td>\n",
              "      <td>Apple</td>\n",
              "    </tr>\n",
              "    <tr>\n",
              "      <th>6</th>\n",
              "      <td>Wine</td>\n",
              "      <td>Chips</td>\n",
              "      <td>NaN</td>\n",
              "      <td>Butter</td>\n",
              "      <td>Milk</td>\n",
              "      <td>NaN</td>\n",
              "    </tr>\n",
              "    <tr>\n",
              "      <th>7</th>\n",
              "      <td>Wine</td>\n",
              "      <td>NaN</td>\n",
              "      <td>Bread</td>\n",
              "      <td>Butter</td>\n",
              "      <td>NaN</td>\n",
              "      <td>Apple</td>\n",
              "    </tr>\n",
              "    <tr>\n",
              "      <th>8</th>\n",
              "      <td>Wine</td>\n",
              "      <td>NaN</td>\n",
              "      <td>Bread</td>\n",
              "      <td>Butter</td>\n",
              "      <td>Milk</td>\n",
              "      <td>NaN</td>\n",
              "    </tr>\n",
              "    <tr>\n",
              "      <th>9</th>\n",
              "      <td>NaN</td>\n",
              "      <td>Chips</td>\n",
              "      <td>Bread</td>\n",
              "      <td>Butter</td>\n",
              "      <td>Milk</td>\n",
              "      <td>Apple</td>\n",
              "    </tr>\n",
              "    <tr>\n",
              "      <th>10</th>\n",
              "      <td>Wine</td>\n",
              "      <td>NaN</td>\n",
              "      <td>NaN</td>\n",
              "      <td>NaN</td>\n",
              "      <td>Milk</td>\n",
              "      <td>Apple</td>\n",
              "    </tr>\n",
              "    <tr>\n",
              "      <th>11</th>\n",
              "      <td>Wine</td>\n",
              "      <td>Chips</td>\n",
              "      <td>Bread</td>\n",
              "      <td>Butter</td>\n",
              "      <td>Milk</td>\n",
              "      <td>NaN</td>\n",
              "    </tr>\n",
              "    <tr>\n",
              "      <th>12</th>\n",
              "      <td>Wine</td>\n",
              "      <td>NaN</td>\n",
              "      <td>Bread</td>\n",
              "      <td>Butter</td>\n",
              "      <td>Milk</td>\n",
              "      <td>Apple</td>\n",
              "    </tr>\n",
              "    <tr>\n",
              "      <th>13</th>\n",
              "      <td>Wine</td>\n",
              "      <td>NaN</td>\n",
              "      <td>Bread</td>\n",
              "      <td>Butter</td>\n",
              "      <td>Milk</td>\n",
              "      <td>Apple</td>\n",
              "    </tr>\n",
              "    <tr>\n",
              "      <th>14</th>\n",
              "      <td>Wine</td>\n",
              "      <td>Chips</td>\n",
              "      <td>Bread</td>\n",
              "      <td>Butter</td>\n",
              "      <td>Milk</td>\n",
              "      <td>Apple</td>\n",
              "    </tr>\n",
              "    <tr>\n",
              "      <th>15</th>\n",
              "      <td>NaN</td>\n",
              "      <td>Chips</td>\n",
              "      <td>Bread</td>\n",
              "      <td>Butter</td>\n",
              "      <td>Milk</td>\n",
              "      <td>Apple</td>\n",
              "    </tr>\n",
              "    <tr>\n",
              "      <th>16</th>\n",
              "      <td>NaN</td>\n",
              "      <td>Chips</td>\n",
              "      <td>NaN</td>\n",
              "      <td>Butter</td>\n",
              "      <td>Milk</td>\n",
              "      <td>Apple</td>\n",
              "    </tr>\n",
              "    <tr>\n",
              "      <th>17</th>\n",
              "      <td>Wine</td>\n",
              "      <td>Chips</td>\n",
              "      <td>Bread</td>\n",
              "      <td>Butter</td>\n",
              "      <td>Milk</td>\n",
              "      <td>Apple</td>\n",
              "    </tr>\n",
              "    <tr>\n",
              "      <th>18</th>\n",
              "      <td>Wine</td>\n",
              "      <td>NaN</td>\n",
              "      <td>Bread</td>\n",
              "      <td>NaN</td>\n",
              "      <td>Milk</td>\n",
              "      <td>Apple</td>\n",
              "    </tr>\n",
              "    <tr>\n",
              "      <th>19</th>\n",
              "      <td>Wine</td>\n",
              "      <td>Chips</td>\n",
              "      <td>Bread</td>\n",
              "      <td>NaN</td>\n",
              "      <td>Milk</td>\n",
              "      <td>Apple</td>\n",
              "    </tr>\n",
              "    <tr>\n",
              "      <th>20</th>\n",
              "      <td>NaN</td>\n",
              "      <td>Chips</td>\n",
              "      <td>NaN</td>\n",
              "      <td>NaN</td>\n",
              "      <td>NaN</td>\n",
              "      <td>NaN</td>\n",
              "    </tr>\n",
              "  </tbody>\n",
              "</table>\n",
              "</div>\n",
              "      <button class=\"colab-df-convert\" onclick=\"convertToInteractive('df-9a3acd6e-efb1-4030-add6-19a35311270e')\"\n",
              "              title=\"Convert this dataframe to an interactive table.\"\n",
              "              style=\"display:none;\">\n",
              "        \n",
              "  <svg xmlns=\"http://www.w3.org/2000/svg\" height=\"24px\"viewBox=\"0 0 24 24\"\n",
              "       width=\"24px\">\n",
              "    <path d=\"M0 0h24v24H0V0z\" fill=\"none\"/>\n",
              "    <path d=\"M18.56 5.44l.94 2.06.94-2.06 2.06-.94-2.06-.94-.94-2.06-.94 2.06-2.06.94zm-11 1L8.5 8.5l.94-2.06 2.06-.94-2.06-.94L8.5 2.5l-.94 2.06-2.06.94zm10 10l.94 2.06.94-2.06 2.06-.94-2.06-.94-.94-2.06-.94 2.06-2.06.94z\"/><path d=\"M17.41 7.96l-1.37-1.37c-.4-.4-.92-.59-1.43-.59-.52 0-1.04.2-1.43.59L10.3 9.45l-7.72 7.72c-.78.78-.78 2.05 0 2.83L4 21.41c.39.39.9.59 1.41.59.51 0 1.02-.2 1.41-.59l7.78-7.78 2.81-2.81c.8-.78.8-2.07 0-2.86zM5.41 20L4 18.59l7.72-7.72 1.47 1.35L5.41 20z\"/>\n",
              "  </svg>\n",
              "      </button>\n",
              "      \n",
              "  <style>\n",
              "    .colab-df-container {\n",
              "      display:flex;\n",
              "      flex-wrap:wrap;\n",
              "      gap: 12px;\n",
              "    }\n",
              "\n",
              "    .colab-df-convert {\n",
              "      background-color: #E8F0FE;\n",
              "      border: none;\n",
              "      border-radius: 50%;\n",
              "      cursor: pointer;\n",
              "      display: none;\n",
              "      fill: #1967D2;\n",
              "      height: 32px;\n",
              "      padding: 0 0 0 0;\n",
              "      width: 32px;\n",
              "    }\n",
              "\n",
              "    .colab-df-convert:hover {\n",
              "      background-color: #E2EBFA;\n",
              "      box-shadow: 0px 1px 2px rgba(60, 64, 67, 0.3), 0px 1px 3px 1px rgba(60, 64, 67, 0.15);\n",
              "      fill: #174EA6;\n",
              "    }\n",
              "\n",
              "    [theme=dark] .colab-df-convert {\n",
              "      background-color: #3B4455;\n",
              "      fill: #D2E3FC;\n",
              "    }\n",
              "\n",
              "    [theme=dark] .colab-df-convert:hover {\n",
              "      background-color: #434B5C;\n",
              "      box-shadow: 0px 1px 3px 1px rgba(0, 0, 0, 0.15);\n",
              "      filter: drop-shadow(0px 1px 2px rgba(0, 0, 0, 0.3));\n",
              "      fill: #FFFFFF;\n",
              "    }\n",
              "  </style>\n",
              "\n",
              "      <script>\n",
              "        const buttonEl =\n",
              "          document.querySelector('#df-9a3acd6e-efb1-4030-add6-19a35311270e button.colab-df-convert');\n",
              "        buttonEl.style.display =\n",
              "          google.colab.kernel.accessAllowed ? 'block' : 'none';\n",
              "\n",
              "        async function convertToInteractive(key) {\n",
              "          const element = document.querySelector('#df-9a3acd6e-efb1-4030-add6-19a35311270e');\n",
              "          const dataTable =\n",
              "            await google.colab.kernel.invokeFunction('convertToInteractive',\n",
              "                                                     [key], {});\n",
              "          if (!dataTable) return;\n",
              "\n",
              "          const docLinkHtml = 'Like what you see? Visit the ' +\n",
              "            '<a target=\"_blank\" href=https://colab.research.google.com/notebooks/data_table.ipynb>data table notebook</a>'\n",
              "            + ' to learn more about interactive tables.';\n",
              "          element.innerHTML = '';\n",
              "          dataTable['output_type'] = 'display_data';\n",
              "          await google.colab.output.renderOutput(dataTable, element);\n",
              "          const docLink = document.createElement('div');\n",
              "          docLink.innerHTML = docLinkHtml;\n",
              "          element.appendChild(docLink);\n",
              "        }\n",
              "      </script>\n",
              "    </div>\n",
              "  </div>\n",
              "  "
            ]
          },
          "metadata": {},
          "execution_count": 11
        }
      ]
    },
    {
      "cell_type": "code",
      "source": [
        "data.shape"
      ],
      "metadata": {
        "colab": {
          "base_uri": "https://localhost:8080/"
        },
        "id": "psM1-QFUPG7n",
        "outputId": "6568c348-6289-4e2c-bd24-15d482198b1e"
      },
      "execution_count": null,
      "outputs": [
        {
          "output_type": "execute_result",
          "data": {
            "text/plain": [
              "(21, 6)"
            ]
          },
          "metadata": {},
          "execution_count": 12
        }
      ]
    },
    {
      "cell_type": "code",
      "source": [
        "records = []\n",
        "for i in range (0,21):\n",
        "  records.append([str(data.values[i,j]) for j in range(0,6)])"
      ],
      "metadata": {
        "id": "a7VeEgv7PIaH"
      },
      "execution_count": null,
      "outputs": []
    },
    {
      "cell_type": "code",
      "source": [
        "records"
      ],
      "metadata": {
        "colab": {
          "base_uri": "https://localhost:8080/"
        },
        "id": "zOMvqdpOPPjA",
        "outputId": "a07ec090-b5db-4dd4-d0f9-d7dd2ad0b0b1"
      },
      "execution_count": null,
      "outputs": [
        {
          "output_type": "execute_result",
          "data": {
            "text/plain": [
              "[['Wine', 'nan', 'Bread', 'Butter', 'Milk', 'nan'],\n",
              " ['nan', 'nan', 'Bread', 'Butter', 'Milk', 'nan'],\n",
              " ['Wine', 'Chips', 'nan', 'nan', 'nan', 'Apple'],\n",
              " ['Wine', 'Chips', 'Bread', 'Butter', 'Milk', 'Apple'],\n",
              " ['Wine', 'Chips', 'nan', 'nan', 'Milk', 'nan'],\n",
              " ['Wine', 'Chips', 'Bread', 'nan', 'nan', 'Apple'],\n",
              " ['Wine', 'Chips', 'nan', 'Butter', 'Milk', 'nan'],\n",
              " ['Wine', 'nan', 'Bread', 'Butter', 'nan', 'Apple'],\n",
              " ['Wine', 'nan', 'Bread', 'Butter', 'Milk', 'nan'],\n",
              " ['nan', 'Chips', 'Bread', 'Butter', 'Milk', 'Apple'],\n",
              " ['Wine', 'nan', 'nan', 'nan', 'Milk', 'Apple'],\n",
              " ['Wine', 'Chips', 'Bread', 'Butter', 'Milk', 'nan'],\n",
              " ['Wine', 'nan', 'Bread', 'Butter', 'Milk', 'Apple'],\n",
              " ['Wine', 'nan', 'Bread', 'Butter', 'Milk', 'Apple'],\n",
              " ['Wine', 'Chips', 'Bread', 'Butter', 'Milk', 'Apple'],\n",
              " ['nan', 'Chips', 'Bread', 'Butter', 'Milk', 'Apple'],\n",
              " ['nan', 'Chips', 'nan', 'Butter', 'Milk', 'Apple'],\n",
              " ['Wine', 'Chips', 'Bread', 'Butter', 'Milk', 'Apple'],\n",
              " ['Wine', 'nan', 'Bread', 'nan', 'Milk', 'Apple'],\n",
              " ['Wine', 'Chips', 'Bread', 'nan', 'Milk', 'Apple'],\n",
              " ['nan', 'Chips', 'nan', 'nan', 'nan', 'nan']]"
            ]
          },
          "metadata": {},
          "execution_count": 14
        }
      ]
    },
    {
      "cell_type": "code",
      "source": [
        "association_rules = apriori(records, min_support = 0.5, min_confidence = 0.7, min_lisft = 1.2, min_length=2)"
      ],
      "metadata": {
        "id": "OmlahYKCPRHw"
      },
      "execution_count": null,
      "outputs": []
    },
    {
      "cell_type": "code",
      "source": [
        "associationa_results = list(association_rules)"
      ],
      "metadata": {
        "id": "HrU2lqdqPWJH"
      },
      "execution_count": null,
      "outputs": []
    },
    {
      "cell_type": "code",
      "source": [
        "associationa_results"
      ],
      "metadata": {
        "colab": {
          "base_uri": "https://localhost:8080/"
        },
        "id": "tYT_OBlZPZ1q",
        "outputId": "249f4c5b-70e9-43f3-c984-40cf789e9481"
      },
      "execution_count": null,
      "outputs": [
        {
          "output_type": "execute_result",
          "data": {
            "text/plain": [
              "[RelationRecord(items=frozenset({'Bread'}), support=0.7142857142857143, ordered_statistics=[OrderedStatistic(items_base=frozenset(), items_add=frozenset({'Bread'}), confidence=0.7142857142857143, lift=1.0)]),\n",
              " RelationRecord(items=frozenset({'Milk'}), support=0.8095238095238095, ordered_statistics=[OrderedStatistic(items_base=frozenset(), items_add=frozenset({'Milk'}), confidence=0.8095238095238095, lift=1.0)]),\n",
              " RelationRecord(items=frozenset({'Wine'}), support=0.7619047619047619, ordered_statistics=[OrderedStatistic(items_base=frozenset(), items_add=frozenset({'Wine'}), confidence=0.7619047619047619, lift=1.0)]),\n",
              " RelationRecord(items=frozenset({'nan'}), support=0.8571428571428571, ordered_statistics=[OrderedStatistic(items_base=frozenset(), items_add=frozenset({'nan'}), confidence=0.8571428571428571, lift=1.0)]),\n",
              " RelationRecord(items=frozenset({'Bread', 'Apple'}), support=0.5238095238095238, ordered_statistics=[OrderedStatistic(items_base=frozenset({'Apple'}), items_add=frozenset({'Bread'}), confidence=0.7857142857142858, lift=1.1), OrderedStatistic(items_base=frozenset({'Bread'}), items_add=frozenset({'Apple'}), confidence=0.7333333333333334, lift=1.1)]),\n",
              " RelationRecord(items=frozenset({'Milk', 'Apple'}), support=0.5238095238095238, ordered_statistics=[OrderedStatistic(items_base=frozenset({'Apple'}), items_add=frozenset({'Milk'}), confidence=0.7857142857142858, lift=0.9705882352941178)]),\n",
              " RelationRecord(items=frozenset({'Apple', 'Wine'}), support=0.5238095238095238, ordered_statistics=[OrderedStatistic(items_base=frozenset({'Apple'}), items_add=frozenset({'Wine'}), confidence=0.7857142857142858, lift=1.0312500000000002)]),\n",
              " RelationRecord(items=frozenset({'Apple', 'nan'}), support=0.5238095238095238, ordered_statistics=[OrderedStatistic(items_base=frozenset({'Apple'}), items_add=frozenset({'nan'}), confidence=0.7857142857142858, lift=0.9166666666666669)]),\n",
              " RelationRecord(items=frozenset({'Bread', 'Butter'}), support=0.5714285714285714, ordered_statistics=[OrderedStatistic(items_base=frozenset({'Bread'}), items_add=frozenset({'Butter'}), confidence=0.7999999999999999, lift=1.2), OrderedStatistic(items_base=frozenset({'Butter'}), items_add=frozenset({'Bread'}), confidence=0.8571428571428571, lift=1.2)]),\n",
              " RelationRecord(items=frozenset({'Bread', 'Milk'}), support=0.6190476190476191, ordered_statistics=[OrderedStatistic(items_base=frozenset({'Bread'}), items_add=frozenset({'Milk'}), confidence=0.8666666666666667, lift=1.0705882352941176), OrderedStatistic(items_base=frozenset({'Milk'}), items_add=frozenset({'Bread'}), confidence=0.7647058823529412, lift=1.0705882352941176)]),\n",
              " RelationRecord(items=frozenset({'Bread', 'Wine'}), support=0.5714285714285714, ordered_statistics=[OrderedStatistic(items_base=frozenset({'Bread'}), items_add=frozenset({'Wine'}), confidence=0.7999999999999999, lift=1.05), OrderedStatistic(items_base=frozenset({'Wine'}), items_add=frozenset({'Bread'}), confidence=0.75, lift=1.05)]),\n",
              " RelationRecord(items=frozenset({'Bread', 'nan'}), support=0.5714285714285714, ordered_statistics=[OrderedStatistic(items_base=frozenset({'Bread'}), items_add=frozenset({'nan'}), confidence=0.7999999999999999, lift=0.9333333333333333)]),\n",
              " RelationRecord(items=frozenset({'Milk', 'Butter'}), support=0.6190476190476191, ordered_statistics=[OrderedStatistic(items_base=frozenset({'Butter'}), items_add=frozenset({'Milk'}), confidence=0.9285714285714286, lift=1.1470588235294117), OrderedStatistic(items_base=frozenset({'Milk'}), items_add=frozenset({'Butter'}), confidence=0.7647058823529412, lift=1.147058823529412)]),\n",
              " RelationRecord(items=frozenset({'Butter', 'nan'}), support=0.5238095238095238, ordered_statistics=[OrderedStatistic(items_base=frozenset({'Butter'}), items_add=frozenset({'nan'}), confidence=0.7857142857142858, lift=0.9166666666666669)]),\n",
              " RelationRecord(items=frozenset({'Milk', 'Wine'}), support=0.6190476190476191, ordered_statistics=[OrderedStatistic(items_base=frozenset({'Milk'}), items_add=frozenset({'Wine'}), confidence=0.7647058823529412, lift=1.0036764705882355), OrderedStatistic(items_base=frozenset({'Wine'}), items_add=frozenset({'Milk'}), confidence=0.8125000000000001, lift=1.0036764705882355)]),\n",
              " RelationRecord(items=frozenset({'Milk', 'nan'}), support=0.6666666666666666, ordered_statistics=[OrderedStatistic(items_base=frozenset({'Milk'}), items_add=frozenset({'nan'}), confidence=0.8235294117647058, lift=0.9607843137254902), OrderedStatistic(items_base=frozenset({'nan'}), items_add=frozenset({'Milk'}), confidence=0.7777777777777778, lift=0.9607843137254902)]),\n",
              " RelationRecord(items=frozenset({'nan', 'Wine'}), support=0.6190476190476191, ordered_statistics=[OrderedStatistic(items_base=frozenset({'Wine'}), items_add=frozenset({'nan'}), confidence=0.8125000000000001, lift=0.9479166666666669), OrderedStatistic(items_base=frozenset({'nan'}), items_add=frozenset({'Wine'}), confidence=0.7222222222222223, lift=0.9479166666666669)]),\n",
              " RelationRecord(items=frozenset({'Bread', 'Butter', 'Milk'}), support=0.5238095238095238, ordered_statistics=[OrderedStatistic(items_base=frozenset({'Bread'}), items_add=frozenset({'Milk', 'Butter'}), confidence=0.7333333333333334, lift=1.1846153846153846), OrderedStatistic(items_base=frozenset({'Butter'}), items_add=frozenset({'Bread', 'Milk'}), confidence=0.7857142857142858, lift=1.2692307692307694), OrderedStatistic(items_base=frozenset({'Bread', 'Butter'}), items_add=frozenset({'Milk'}), confidence=0.9166666666666667, lift=1.1323529411764706), OrderedStatistic(items_base=frozenset({'Bread', 'Milk'}), items_add=frozenset({'Butter'}), confidence=0.8461538461538461, lift=1.2692307692307694), OrderedStatistic(items_base=frozenset({'Milk', 'Butter'}), items_add=frozenset({'Bread'}), confidence=0.8461538461538461, lift=1.1846153846153846)])]"
            ]
          },
          "metadata": {},
          "execution_count": 17
        }
      ]
    },
    {
      "cell_type": "code",
      "source": [
        "print(len(associationa_results))"
      ],
      "metadata": {
        "colab": {
          "base_uri": "https://localhost:8080/"
        },
        "id": "0k3pxlsnPcNQ",
        "outputId": "a00a0dc1-67b1-4698-8d34-f20ef59086ef"
      },
      "execution_count": null,
      "outputs": [
        {
          "output_type": "stream",
          "name": "stdout",
          "text": [
            "18\n"
          ]
        }
      ]
    },
    {
      "cell_type": "code",
      "source": [
        "print(associationa_results)"
      ],
      "metadata": {
        "colab": {
          "base_uri": "https://localhost:8080/"
        },
        "id": "viSNlfuNPg-K",
        "outputId": "bf937d22-2b4b-4297-bfe5-3b5d6b82c6de"
      },
      "execution_count": null,
      "outputs": [
        {
          "output_type": "stream",
          "name": "stdout",
          "text": [
            "[RelationRecord(items=frozenset({'Bread'}), support=0.7142857142857143, ordered_statistics=[OrderedStatistic(items_base=frozenset(), items_add=frozenset({'Bread'}), confidence=0.7142857142857143, lift=1.0)]), RelationRecord(items=frozenset({'Milk'}), support=0.8095238095238095, ordered_statistics=[OrderedStatistic(items_base=frozenset(), items_add=frozenset({'Milk'}), confidence=0.8095238095238095, lift=1.0)]), RelationRecord(items=frozenset({'Wine'}), support=0.7619047619047619, ordered_statistics=[OrderedStatistic(items_base=frozenset(), items_add=frozenset({'Wine'}), confidence=0.7619047619047619, lift=1.0)]), RelationRecord(items=frozenset({'nan'}), support=0.8571428571428571, ordered_statistics=[OrderedStatistic(items_base=frozenset(), items_add=frozenset({'nan'}), confidence=0.8571428571428571, lift=1.0)]), RelationRecord(items=frozenset({'Bread', 'Apple'}), support=0.5238095238095238, ordered_statistics=[OrderedStatistic(items_base=frozenset({'Apple'}), items_add=frozenset({'Bread'}), confidence=0.7857142857142858, lift=1.1), OrderedStatistic(items_base=frozenset({'Bread'}), items_add=frozenset({'Apple'}), confidence=0.7333333333333334, lift=1.1)]), RelationRecord(items=frozenset({'Milk', 'Apple'}), support=0.5238095238095238, ordered_statistics=[OrderedStatistic(items_base=frozenset({'Apple'}), items_add=frozenset({'Milk'}), confidence=0.7857142857142858, lift=0.9705882352941178)]), RelationRecord(items=frozenset({'Apple', 'Wine'}), support=0.5238095238095238, ordered_statistics=[OrderedStatistic(items_base=frozenset({'Apple'}), items_add=frozenset({'Wine'}), confidence=0.7857142857142858, lift=1.0312500000000002)]), RelationRecord(items=frozenset({'Apple', 'nan'}), support=0.5238095238095238, ordered_statistics=[OrderedStatistic(items_base=frozenset({'Apple'}), items_add=frozenset({'nan'}), confidence=0.7857142857142858, lift=0.9166666666666669)]), RelationRecord(items=frozenset({'Bread', 'Butter'}), support=0.5714285714285714, ordered_statistics=[OrderedStatistic(items_base=frozenset({'Bread'}), items_add=frozenset({'Butter'}), confidence=0.7999999999999999, lift=1.2), OrderedStatistic(items_base=frozenset({'Butter'}), items_add=frozenset({'Bread'}), confidence=0.8571428571428571, lift=1.2)]), RelationRecord(items=frozenset({'Bread', 'Milk'}), support=0.6190476190476191, ordered_statistics=[OrderedStatistic(items_base=frozenset({'Bread'}), items_add=frozenset({'Milk'}), confidence=0.8666666666666667, lift=1.0705882352941176), OrderedStatistic(items_base=frozenset({'Milk'}), items_add=frozenset({'Bread'}), confidence=0.7647058823529412, lift=1.0705882352941176)]), RelationRecord(items=frozenset({'Bread', 'Wine'}), support=0.5714285714285714, ordered_statistics=[OrderedStatistic(items_base=frozenset({'Bread'}), items_add=frozenset({'Wine'}), confidence=0.7999999999999999, lift=1.05), OrderedStatistic(items_base=frozenset({'Wine'}), items_add=frozenset({'Bread'}), confidence=0.75, lift=1.05)]), RelationRecord(items=frozenset({'Bread', 'nan'}), support=0.5714285714285714, ordered_statistics=[OrderedStatistic(items_base=frozenset({'Bread'}), items_add=frozenset({'nan'}), confidence=0.7999999999999999, lift=0.9333333333333333)]), RelationRecord(items=frozenset({'Milk', 'Butter'}), support=0.6190476190476191, ordered_statistics=[OrderedStatistic(items_base=frozenset({'Butter'}), items_add=frozenset({'Milk'}), confidence=0.9285714285714286, lift=1.1470588235294117), OrderedStatistic(items_base=frozenset({'Milk'}), items_add=frozenset({'Butter'}), confidence=0.7647058823529412, lift=1.147058823529412)]), RelationRecord(items=frozenset({'Butter', 'nan'}), support=0.5238095238095238, ordered_statistics=[OrderedStatistic(items_base=frozenset({'Butter'}), items_add=frozenset({'nan'}), confidence=0.7857142857142858, lift=0.9166666666666669)]), RelationRecord(items=frozenset({'Milk', 'Wine'}), support=0.6190476190476191, ordered_statistics=[OrderedStatistic(items_base=frozenset({'Milk'}), items_add=frozenset({'Wine'}), confidence=0.7647058823529412, lift=1.0036764705882355), OrderedStatistic(items_base=frozenset({'Wine'}), items_add=frozenset({'Milk'}), confidence=0.8125000000000001, lift=1.0036764705882355)]), RelationRecord(items=frozenset({'Milk', 'nan'}), support=0.6666666666666666, ordered_statistics=[OrderedStatistic(items_base=frozenset({'Milk'}), items_add=frozenset({'nan'}), confidence=0.8235294117647058, lift=0.9607843137254902), OrderedStatistic(items_base=frozenset({'nan'}), items_add=frozenset({'Milk'}), confidence=0.7777777777777778, lift=0.9607843137254902)]), RelationRecord(items=frozenset({'nan', 'Wine'}), support=0.6190476190476191, ordered_statistics=[OrderedStatistic(items_base=frozenset({'Wine'}), items_add=frozenset({'nan'}), confidence=0.8125000000000001, lift=0.9479166666666669), OrderedStatistic(items_base=frozenset({'nan'}), items_add=frozenset({'Wine'}), confidence=0.7222222222222223, lift=0.9479166666666669)]), RelationRecord(items=frozenset({'Bread', 'Butter', 'Milk'}), support=0.5238095238095238, ordered_statistics=[OrderedStatistic(items_base=frozenset({'Bread'}), items_add=frozenset({'Milk', 'Butter'}), confidence=0.7333333333333334, lift=1.1846153846153846), OrderedStatistic(items_base=frozenset({'Butter'}), items_add=frozenset({'Bread', 'Milk'}), confidence=0.7857142857142858, lift=1.2692307692307694), OrderedStatistic(items_base=frozenset({'Bread', 'Butter'}), items_add=frozenset({'Milk'}), confidence=0.9166666666666667, lift=1.1323529411764706), OrderedStatistic(items_base=frozenset({'Bread', 'Milk'}), items_add=frozenset({'Butter'}), confidence=0.8461538461538461, lift=1.2692307692307694), OrderedStatistic(items_base=frozenset({'Milk', 'Butter'}), items_add=frozenset({'Bread'}), confidence=0.8461538461538461, lift=1.1846153846153846)])]\n"
          ]
        }
      ]
    }
  ]
}